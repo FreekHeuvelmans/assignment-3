{
 "cells": [
  {
   "cell_type": "markdown",
   "metadata": {},
   "source": [
    "# Adjusting the generosity of unemployment benefits over the business cycle(*)"
   ]
  },
  {
   "cell_type": "markdown",
   "metadata": {},
   "source": [
    "* Janneke Horenga (541639) - [jannekehorenga](http://jannekehorenga.github.io/)\n",
    "* Bart de Geus (561375) - [bartdegeus](http://bartdegeus.github.io/)"
   ]
  },
  {
   "cell_type": "markdown",
   "metadata": {},
   "source": [
    "###### (*) Third assignment for the course Methods: Numerical Simulation, April 15th, 2016. We thank prof. Boone for his help on the fixed-point algorithm and numerous tips."
   ]
  },
  {
   "cell_type": "markdown",
   "metadata": {},
   "source": [
    "### Research question\n",
    "What would be the effect on job-search intensity, the value of average unemployment, unemployment duration and aggregate welfare of increasing the replacement rate of unemployment benefits during a recession?"
   ]
  },
  {
   "cell_type": "markdown",
   "metadata": {},
   "source": [
    "### Motivation\n",
    "During the Great Recession many European economies saw steep increases in the  unemployment rate (see this [Table from OECD data](https://data.oecd.org/chart/4v74)). With job finding rates low and more long-term unemployment, governments might expand the generosity of unemployment insurance benefits to ease economic pain for the unemployed and reduce the shortfall in aggregate demand [(Moffit 2014, p.5)](http://wol.iza.org/articles/unemployment-benefits-and-unemployment.pdf). One way is to lengthen the duration of the benefit period, the effects of which have already been surveyed by [Tatsiramos and Van Ours (2012)](http://onlinelibrary.wiley.com/doi/10.1111/joes.12005/abstract). A second option for governments is to increase the benefit level during a recession, which may be more effective in keeping up aggregate demand in the short-term. Benefit levels are commonly measured by the net income replacement rate, the ratio of benefits to the recepients earnings on the terminated job [(Moffit 2014, p.3)](http://wol.iza.org/articles/unemployment-benefits-and-unemployment.pdf).\n",
    "\n",
    "But any adjustment to the generosity of benefits must balance the improvement in welfare with expected side-effects, the most important of which is moral hazard among job-seekers. An increase in the replacement rate reduces the gains from taking a job during the benefit period and benefit recepients might lower their search effort in response. This could slow down a recovery [(Moffit 2014, p.6)](http://wol.iza.org/articles/unemployment-benefits-and-unemployment.pdf). We therefore ask what would be the effect of an increase in the replacement rate on the following labor market outcomes and welfare measures: job-search intensity, the value of unemployment, unemployment duration and aggregate welfare."
   ]
  },
  {
   "cell_type": "markdown",
   "metadata": {},
   "source": [
    "### Method\n",
    "We use a two-sided search-matching model of a dynamic labor market from [Boeri and Van Ours (2013, sec 11.9)](http://press.princeton.edu/titles/10142.html), which is a simplified version of the model used by [Boone and Van Ours (2006)](http://www.ingentaconnect.com/content/mohr/jite/2006/00000162/00000002/art00001/), to simulate the overall effects of a change in the replacement rate. Our model is limited in the sense that unemployement is caused by search frictions rather than demand shortfalls. Moreover, because the model does not include a feedback loop from changes in the replacement rate to product market demand, our work here is limited to an analysis of partial equilibrium.\n",
    "\n",
    "We look at the Dutch economy. We start with a [baseline scenario](#base) for which we normalize productivity. The baseline scenario corresponds to 2008, when real GDP growth was 1.7%. To simulate a [recession](#reces) we adjust the productivity parameter based on [data](#data) from the Netherlands during the Great Recession. We calculate the relative change in GDP per unit worked and compare labor market outcomes under both states of the business cycle. To answer our research question we increase the replacement rate of unemployment insurance benefits from $b=0.7$ to $b=0.8$ and compare steady-state labor market outcomes for the two different levels of the replacement rate.\n",
    "\n",
    "We conduct a sensitivity analysis to determine the robustness of our results to changes in __[variables]__."
   ]
  },
  {
   "cell_type": "markdown",
   "metadata": {},
   "source": [
    "### Answer\n",
    "A recession that is characterized by a 2.24 % decrease in labor productivity, an increase of the unemployment benefit replacement rate from 70% to 80% will __[Effects]__"
   ]
  },
  {
   "cell_type": "markdown",
   "metadata": {},
   "source": [
    "### Main assumptions\n",
    "We have made a number of assumptions.\n",
    "* A labor market in equilibrium with unemployment as [modelled](#equations) in [Boeri and Van Ours (2013, sec 11.9)](http://press.princeton.edu/titles/10142.html);\n",
    "* A fall in the level of labor productivity as a proxy for demand shortfall to simulate a recession;\n",
    "* We take values for the [exogenous parameters](#exo) from [Boone and Van Ours (2006, p. 238-9)](http://www.ingentaconnect.com/content/mohr/jite/2006/00000162/00000002/art00001/) as an approximation of a labor market in a developed economy. We conduct a [sensitivity analysis](#sens) on  __[Variables]__;\n",
    "* A [policy change](#pol) in which the unemployment benefit replacement rate is raised from 0.7 to 0.8.\n",
    "\n",
    "Some assumptions are implicit in the model:\n",
    "* Labor is homogenous and all employed workers receive the same wage;\n",
    "* Wages are flexible: unemployment arises because of search frictions;\n",
    "* Workers and firms are risk-neutral;\n",
    "* A linear felicity function of wages;\n",
    "* Workers can adjust their search effort to influence the probability of finding a job;\n",
    "* Unemployment insurance benefits are one-dimenional: there is a constant replacement rate and benefits last forever;\n",
    "* Labor supply is exogenous and the total labor force is set to $1$ (cf Boone and Van Ours (2006))\n",
    "* Entry for firms is free: the value of creating a vacancy ($J_{\\upsilon}$) is $0$"
   ]
  },
  {
   "cell_type": "markdown",
   "metadata": {},
   "source": [
    "## Execution"
   ]
  },
  {
   "cell_type": "markdown",
   "metadata": {},
   "source": [
    "### Importing libraries and packages"
   ]
  },
  {
   "cell_type": "code",
   "execution_count": 186,
   "metadata": {
    "collapsed": false
   },
   "outputs": [],
   "source": [
    "import math\n",
    "import numpy as np\n",
    "import pandas as pd\n",
    "from scipy import arange, optimize\n",
    "import matplotlib.pyplot as plt\n",
    "%matplotlib inline"
   ]
  },
  {
   "cell_type": "markdown",
   "metadata": {},
   "source": [
    "### Data<a id='data'></a>\n",
    "Our values for exogenous parameters are taken from [Boone and Van Ours (2006, p. 238-9)](http://www.ingentaconnect.com/content/mohr/jite/2006/00000162/00000002/art00001/).\n",
    "\n",
    "We adjust the exogenous parameter for the productivity level to simulate a change in business cycle conditions. We adjust on the basis of observed reductions in a proxy for productivity, real GDP per hour worked (index measure), from [OECD.Stat](http://stats.oecd.org/viewhtml.aspx?datasetcode=PDB_GR&lang=en#) for the Netherlands during the Great Recession (2008-2013). "
   ]
  },
  {
   "cell_type": "code",
   "execution_count": 187,
   "metadata": {
    "collapsed": false,
    "scrolled": false
   },
   "outputs": [],
   "source": [
    "df = pd.read_csv('data.csv')"
   ]
  },
  {
   "cell_type": "code",
   "execution_count": 188,
   "metadata": {
    "collapsed": false,
    "scrolled": true
   },
   "outputs": [
    {
     "data": {
      "image/png": "[encoded data removed]",
      "text/plain": [
       "<matplotlib.figure.Figure at 0x1c26ac18>"
      ]
     },
     "metadata": {},
     "output_type": "display_data"
    }
   ],
   "source": [
    "baseline = 100.0\n",
    "plt.bar(df.year, df.value-baseline, bottom=baseline)\n",
    "plt.xlabel ('year')\n",
    "plt.ylabel ('index', rotation=0)\n",
    "plt.title ('Figure 1. Productivity (GDP per hour worked, NTL)')\n",
    "plt.savefig ('Productivity_bar.png')"
   ]
  },
  {
   "cell_type": "markdown",
   "metadata": {},
   "source": [
    "### Model<a id='model'></a>"
   ]
  },
  {
   "cell_type": "markdown",
   "metadata": {},
   "source": [
    "A simplified model form [Boeri and Van Ours (2013, sec 11.9)](http://press.princeton.edu/titles/10142.html)."
   ]
  },
  {
   "cell_type": "markdown",
   "metadata": {},
   "source": [
    "#### Table 1. Exogenous parameters <a id='exo'></a>"
   ]
  },
  {
   "cell_type": "markdown",
   "metadata": {},
   "source": [
    "|  Symbol  \t| Definition       \t|   \t|     Symbol     \t| Definition                  \t|\n",
    "|:--------:\t|------------------\t|---\t|:--------------:\t|-----------------------------\t|\n",
    "|    $b$   \t| replacement rate \t|   \t|     $\\beta$    \t| bargaining power of workers \t|\n",
    "|  $\\rho$  \t| discount rate    \t|   \t|       $y$      \t| productivity level          \t|\n",
    "| $\\kappa$ \t| search cost function parameter |   \t| $c_{\\upsilon}$ \t| cost of opening a vacancy\t|\n",
    "|  $\\eta$  \t| matching function parameter \t|   \t|    $\\delta$    \t| job destruction rate |\n",
    "|    $A$   \t| matching function parameter \t|   \t| \t|                   |"
   ]
  },
  {
   "cell_type": "code",
   "execution_count": 189,
   "metadata": {
    "collapsed": true
   },
   "outputs": [],
   "source": [
    "# Exogenous parameters from Boone and Van Ours (2006)\n",
    "\n",
    "rho = 0.025        # discount rate\n",
    "kappa = 0.5        # search cost function parameter\n",
    "eta = 0.5          # matching function parameter\n",
    "A = 1.5            # efficiency of matching function\n",
    "beta = 0.5         # bargaining power of workers\n",
    "c_ups = 2.0        # cost of opening a vacancy\n",
    "delta = 0.04       # job destruction rate"
   ]
  },
  {
   "cell_type": "markdown",
   "metadata": {},
   "source": [
    "#### Table 2. Endogenous parameters <a id='endo'></a> (Steady state)"
   ]
  },
  {
   "cell_type": "markdown",
   "metadata": {
    "collapsed": true
   },
   "source": [
    "|     Symbol     | Definition                  |   |     Symbol    | Definition              |\n",
    "|:--------------:|-----------------------------|---|:-------------:|-------------------------|\n",
    "|    $\\gamma$    | disutility of job-search    |   |      $u$      | unemployed (share of labor force)    |\n",
    "|       $s$      | job-search effort by worker |   |      $e$      | employed (share of labor force)      |\n",
    "|      $V_u$     | value of unemployment       |   |      $m$      | period job matches      |\n",
    "|      $V_e$     | value of employment         |   |    $\\theta$   | labor market tightness  |\n",
    "|       $w$      | period wage                 |   |     $\\mu$     | job finding probability |\n",
    "|      $J_e$     | value of a job              |   |      $t$      | tax rate                |\n",
    "| $J_{\\upsilon}$ | value of a vacancy          |   |      $W$      | total welfare           |\n",
    "|   $\\upsilon$   | number of vacancies         |   | $\\overline{u_t}$| average unemployment duration    |"
   ]
  },
  {
   "cell_type": "code",
   "execution_count": 190,
   "metadata": {
    "collapsed": true
   },
   "outputs": [],
   "source": [
    "# Restrictions on endogenous variables\n",
    "\n",
    "J_ups = 0          # Value of vacancy bid down to 0 (cf. Boone and Van Ours (2006))\n",
    "\n",
    "t = 0.0            # tax rate (set temporarily for finding fixed-points)"
   ]
  },
  {
   "cell_type": "markdown",
   "metadata": {},
   "source": [
    "### Model equations<a id='equations'></a>"
   ]
  },
  {
   "cell_type": "markdown",
   "metadata": {},
   "source": [
    "#### Optimal job search intensity "
   ]
  },
  {
   "cell_type": "markdown",
   "metadata": {},
   "source": [
    "disutility of searching $$\\gamma\\left(s\\right)=\\frac{1-\\left(1-s\\right)^{1-\\kappa}}{1-\\kappa}-s$$\n",
    "\n",
    "with $ \\gamma(0)=0$ ; $ \\gamma'(0)=0$; $ \\gamma'(s)>0$ ; $ \\gamma''(s)>0$ ; $ \\lim_{s\\to 1} \\gamma'(s)=+\\infty $"
   ]
  },
  {
   "cell_type": "markdown",
   "metadata": {},
   "source": [
    "flow value of being unemployed $$ \\rho V_u = \\underset{0 \\le s \\le 1}{max}\\{bw-\\gamma(s) + \\mu s (V_e - V_u) \\} $$"
   ]
  },
  {
   "cell_type": "markdown",
   "metadata": {},
   "source": [
    "flow value of being employed\n",
    "\n",
    "$$ \\rho V_e = w + \\delta \\left(V_u - V_e \\right) $$"
   ]
  },
  {
   "cell_type": "markdown",
   "metadata": {},
   "source": [
    "#### Vacancies and the matching function"
   ]
  },
  {
   "cell_type": "markdown",
   "metadata": {},
   "source": [
    "flow of matches\n",
    "\n",
    "$$ m\\left(s u,\\upsilon\\right) = A \\left(su\\right)^{1-\\eta} \\upsilon^{\\eta} $$"
   ]
  },
  {
   "cell_type": "markdown",
   "metadata": {},
   "source": [
    "search parameter for unemployed workers\n",
    "$$ \\mu = \\frac{m \\left(su, \\upsilon \\right)}{su} = A\\theta^{\\eta} $$\n",
    "\n",
    "with $\\theta=\\frac{\\upsilon}{su}$"
   ]
  },
  {
   "cell_type": "markdown",
   "metadata": {},
   "source": [
    "flow value of a job $$ \\rho J_e = y - (1+t)w + \\delta ( J_{\\upsilon} - J_e) $$"
   ]
  },
  {
   "cell_type": "markdown",
   "metadata": {},
   "source": [
    "flow value of a vacancy\n",
    "\n",
    "$$ \\rho J_{\\upsilon} = -c_{\\upsilon}+\\frac{\\mu}{\\theta}(J_e - J_{\\upsilon}) $$"
   ]
  },
  {
   "cell_type": "markdown",
   "metadata": {},
   "source": [
    "#### Wage bargaining"
   ]
  },
  {
   "cell_type": "markdown",
   "metadata": {},
   "source": [
    "$$ \\underset{w}{max}\\{(V_e - V_u)^{\\beta}(J_e - J_{\\upsilon})^{1-\\beta}\\} $$\n",
    "\n",
    "which gives $$ w = (1 - \\beta) \\rho V_u + \\beta \\frac{y}{1+t} $$"
   ]
  },
  {
   "cell_type": "markdown",
   "metadata": {},
   "source": [
    "#### Labor market participation"
   ]
  },
  {
   "cell_type": "markdown",
   "metadata": {},
   "source": [
    "labor market equilibrium condition $$ \\mu s u = \\delta e $$"
   ]
  },
  {
   "cell_type": "markdown",
   "metadata": {},
   "source": [
    "labor force participation rate $$ e + u = 1 $$\n",
    "Total labor force normalized to $1$"
   ]
  },
  {
   "cell_type": "markdown",
   "metadata": {},
   "source": [
    "#### Balanced budget requirement"
   ]
  },
  {
   "cell_type": "markdown",
   "metadata": {},
   "source": [
    "$$ etw = ubw $$"
   ]
  },
  {
   "cell_type": "markdown",
   "metadata": {},
   "source": [
    "#### Total welfare\n",
    "\n",
    "We add total welfare from [Boone and Van Ours (2006)](http://www.ingentaconnect.com/content/mohr/jite/2006/00000162/00000002/art00001/)."
   ]
  },
  {
   "cell_type": "markdown",
   "metadata": {},
   "source": [
    "$$ W = uV_u + e(V_e+J_e)+\\upsilon J_{\\upsilon} $$"
   ]
  },
  {
   "cell_type": "markdown",
   "metadata": {},
   "source": [
    "#### Average unemployment duration\n",
    "Added from [Boone and Van Ours (2006, p.239)](http://www.ingentaconnect.com/content/mohr/jite/2006/00000162/00000002/art00001/).\n",
    "$$\\overline{u_t} = \\frac{1}{\\mu(\\theta)}$$"
   ]
  },
  {
   "cell_type": "markdown",
   "metadata": {},
   "source": [
    "### Calculations for steady states"
   ]
  },
  {
   "cell_type": "markdown",
   "metadata": {},
   "source": [
    "#### Baseline scenario<a id='base'></a>\n",
    "We start with a baseline scenario in which the economy is not in a recession. For this we can normalize the productivity parameter, $y=1$."
   ]
  },
  {
   "cell_type": "code",
   "execution_count": 191,
   "metadata": {
    "collapsed": false
   },
   "outputs": [],
   "source": [
    "# State of the economy\n",
    "\n",
    "y = 1.0            # productivity level\n",
    "\n",
    "# Baseline value of the unemployment benefit replacement rate\n",
    "\n",
    "b = 0.7            # replacement rate"
   ]
  },
  {
   "cell_type": "markdown",
   "metadata": {},
   "source": [
    "We define those endogenous variables required to solve the model and find the other endogenous variables for our comparison of steady states."
   ]
  },
  {
   "cell_type": "code",
   "execution_count": 192,
   "metadata": {
    "collapsed": false
   },
   "outputs": [],
   "source": [
    "# disutility from job search\n",
    "def gamma(s):\n",
    "    return ((1.0-(1.0-s)**(1.0-kappa)))/(1.0-kappa) -s"
   ]
  },
  {
   "cell_type": "markdown",
   "metadata": {},
   "source": [
    "##### Finding fixed-points\n",
    "We solve the model by finding a fixed point of the  value function for the unemployed worker, $V_u$. We substitute in the definition of the optimal wage from wage bargaining, $w$, and the definiton of $J_e$ and $\\theta$."
   ]
  },
  {
   "cell_type": "code",
   "execution_count": 193,
   "metadata": {
    "collapsed": true
   },
   "outputs": [],
   "source": [
    "def fixed_point(v_u):\n",
    "    w = (1.0-beta)*rho*v_u + beta * (y/(1.0+t))\n",
    "    J_e = (y-(1.0+t)*w)/(rho+delta)\n",
    "    theta = ((A*J_e)/(c_ups))**(1.0/(1.0-eta))\n",
    "    # find optimal s for given values of theta and v_u    \n",
    "    s_max = optimize.fminbound(lambda s: -(b*w - gamma(s) + A*(theta**eta)*s*(w/(rho+delta) - rho/(rho+delta)*v_u)),0,1,disp=1)\n",
    "    output = (b*w - gamma(s_max) + A*(theta**eta)*s_max*(w/(rho+delta) - rho/(rho+delta)*v_u))/rho\n",
    "    return output - v_u"
   ]
  },
  {
   "cell_type": "code",
   "execution_count": 194,
   "metadata": {
    "collapsed": false
   },
   "outputs": [
    {
     "data": {
      "text/plain": [
       "array([ 36.13974892])"
      ]
     },
     "execution_count": 194,
     "metadata": {},
     "output_type": "execute_result"
    }
   ],
   "source": [
    "V_u = optimize.fsolve(fixed_point, 5.0)\n",
    "V_u"
   ]
  },
  {
   "cell_type": "markdown",
   "metadata": {},
   "source": [
    "##### Finding values for endogenous variables"
   ]
  },
  {
   "cell_type": "markdown",
   "metadata": {},
   "source": [
    "For completeness, we report to following formulas to find the steady state values of the endogenous variables:\n",
    "\n",
    "$$V_e = \\frac{w + \\delta V_u}{\\rho+\\delta} $$\n",
    "$$u = \\frac{\\delta}{\\mu s + \\delta} $$\n",
    "$$t = \\frac{ubw}{ew} $$\n",
    "$$m(su,\\upsilon) = suA\\theta^{\\eta} $$\n",
    "$$\\upsilon = (\\frac{m}{A(su)^{1-\\eta}})^\\frac{1}{\\eta} $$\n",
    "\n",
    "We assume the other values can readily be derived from the [model](#equations). "
   ]
  },
  {
   "cell_type": "code",
   "execution_count": 195,
   "metadata": {
    "collapsed": false
   },
   "outputs": [],
   "source": [
    "# endogenous variables (order of formulas is important)\n",
    "w = (1.0-beta)*rho*V_u + beta * (y/(1.0+t))\n",
    "J_e = (y-(1.0+t)*w)/(rho+delta)\n",
    "theta = ((A*J_e)/(c_ups))**(1.0/(1.0-eta))\n",
    "s = optimize.fminbound(lambda s: -(b*w - gamma(s) + A*(theta**eta)*s*(w/(rho+delta) - rho/(rho+delta)*V_u)),0,1,disp=1)\n",
    "gamma = ((1.0-(1-s)**(1-kappa)))/(1-kappa) - s\n",
    "mu = A*(theta**eta)\n",
    "V_e = (w + delta*V_u)/(rho+delta)\n",
    "u = delta/(mu*s + delta)\n",
    "e = 1 - u\n",
    "t = (u*b*w)/(e*w)\n",
    "m = s*u*A*(theta**eta)\n",
    "upsilon = (m/(A*(s*u)**(1-eta)))**(1/eta)\n",
    "W = u*V_u + e*(V_e + J_e) # note: total value of vacancies is zero\n",
    "u_t = 1/mu"
   ]
  },
  {
   "cell_type": "code",
   "execution_count": 196,
   "metadata": {
    "collapsed": false
   },
   "outputs": [],
   "source": [
    "# Create table for results.\n",
    "endo_varnames = [\"V_u\",\"w\",\"J_e\",\"theta\",\"s\",\"gamma\",\"mu\",\"V_e\",\"u\",\"e\",\"t\",\"m\",\"upsilon\",\"W\",\"u_t\"]\n",
    "endo_val_baseline = [V_u,w,J_e,theta,s,gamma,mu,V_e,u,e,t,m,upsilon,W,u_t]\n",
    "for index, item in enumerate(endo_val_baseline):\n",
    "    endo_val_baseline[index] = round(float(item),3)\n",
    "table = dict(zip(endo_varnames, endo_val_baseline))"
   ]
  },
  {
   "cell_type": "code",
   "execution_count": 197,
   "metadata": {
    "collapsed": false,
    "scrolled": true
   },
   "outputs": [
    {
     "name": "stdout",
     "output_type": "stream",
     "text": [
      "Variable  Baseline:y=1.0 & b=0.7  \n",
      "V_u                36.14          \n",
      "e                  0.928          \n",
      "J_e                0.742          \n",
      "W                 37.518          \n",
      "u_t                1.197          \n",
      "m                  0.037          \n",
      "mu                 0.835          \n",
      "V_e               36.882          \n",
      "s                  0.619          \n",
      "u                  0.072          \n",
      "t                  0.054          \n",
      "w                  0.952          \n",
      "upsilon            0.014          \n",
      "theta              0.31           \n",
      "gamma              0.146          \n"
     ]
    }
   ],
   "source": [
    "print \"{:<8} {:^25}\".format('Variable','Baseline:y=1.0 & b=0.7')\n",
    "for k, v in table.iteritems():\n",
    "    print \"{:<8} {:^25}\".format(k, v)"
   ]
  },
  {
   "cell_type": "markdown",
   "metadata": {},
   "source": [
    "We will hold off on presenting the baseline in a graph until the next section to enable comparison."
   ]
  },
  {
   "cell_type": "markdown",
   "metadata": {
    "collapsed": true
   },
   "source": [
    "#### A recession<a id='reces'></a>\n",
    "As a final step before we introduce our policy change, we compare the baseline scenario with the recession. The OECD [data](#data) shows a decline in productivity in the Netherlands during the beginning of the recession. We compare the baseline scenario of 2008 to productivity in 2009 for maximum effect. Below we caculate the productivity variable $y_{low} = 0.976$"
   ]
  },
  {
   "cell_type": "code",
   "execution_count": 198,
   "metadata": {
    "collapsed": false
   },
   "outputs": [
    {
     "data": {
      "text/plain": [
       "0.97607178464606192"
      ]
     },
     "execution_count": 198,
     "metadata": {},
     "output_type": "execute_result"
    }
   ],
   "source": [
    "b = 0.7 # We keep the replacement rate constant\n",
    "\n",
    "# lowest productivity during recession\n",
    "y_low = df.value[9]/df.value[8]\n",
    "y_low"
   ]
  },
  {
   "cell_type": "markdown",
   "metadata": {},
   "source": [
    "We again solve the model for the endogenous variables in this steady state."
   ]
  },
  {
   "cell_type": "code",
   "execution_count": 199,
   "metadata": {
    "collapsed": false
   },
   "outputs": [],
   "source": [
    "# find fixed point\n",
    "t = 0.0\n",
    "\n",
    "def gamma(s):\n",
    "    return ((1.0-(1.0-s)**(1.0-kappa)))/(1.0-kappa) -s\n",
    "\n",
    "def fixed_point(v_u):\n",
    "    w = (1.0-beta)*rho*v_u + beta * (y_low/(1.0+t))\n",
    "    J_e = (y_low-(1.0+t)*w)/(rho+delta)\n",
    "    theta = ((A*J_e)/(c_ups))**(1.0/(1.0-eta))\n",
    "    # find optimal s for given values of theta and v_u    \n",
    "    s_max = optimize.fminbound(lambda s: -(b*w - gamma(s) + A*(theta**eta)*s*(w/(rho+delta) - rho/(rho+delta)*v_u)),0,1,disp=1)\n",
    "    output = (b*w - gamma(s_max) + A*(theta**eta)*s_max*(w/(rho+delta) - rho/(rho+delta)*v_u))/rho\n",
    "    return output - v_u"
   ]
  },
  {
   "cell_type": "code",
   "execution_count": 200,
   "metadata": {
    "collapsed": false,
    "scrolled": false
   },
   "outputs": [
    {
     "data": {
      "text/plain": [
       "array([ 35.2162615])"
      ]
     },
     "execution_count": 200,
     "metadata": {},
     "output_type": "execute_result"
    }
   ],
   "source": [
    "V_u = optimize.fsolve(fixed_point, 5.0)\n",
    "V_u"
   ]
  },
  {
   "cell_type": "code",
   "execution_count": 201,
   "metadata": {
    "collapsed": false
   },
   "outputs": [],
   "source": [
    "# endogenous variables\n",
    "w = (1.0-beta)*rho*V_u + beta * (y/(1.0+t))\n",
    "J_e = (y-(1.0+t)*w)/(rho+delta)\n",
    "theta = ((A*J_e)/(c_ups))**(1.0/(1.0-eta))\n",
    "s_max = optimize.fminbound(lambda s: -(b*w - gamma(s) + A*(theta**eta)*s*(w/(rho+delta) - rho/(rho+delta)*V_u)),0,1,disp=1)\n",
    "gamma = ((1.0-(1-s_max)**(1-kappa)))/(1-kappa) - s_max\n",
    "mu = A*(theta**eta)\n",
    "V_e = (w + delta*V_u)/(rho+delta)\n",
    "u = delta/(mu*s_max + delta)\n",
    "e = 1 - u\n",
    "t = (u*b*w)/(e*w)\n",
    "m = s_max*u*A*(theta**eta)\n",
    "upsilon = (m/(A*(s_max*u)**(1-eta)))**(1/eta)\n",
    "W = u*V_u + e*(V_e + J_e) # note: total value of vacancies is zero\n",
    "u_t = 1/mu"
   ]
  },
  {
   "cell_type": "code",
   "execution_count": 202,
   "metadata": {
    "collapsed": false
   },
   "outputs": [],
   "source": [
    "# Create table for results.\n",
    "endo_val_recession = [V_u,w,J_e,theta,s,gamma,mu,V_e,u,e,t,m,upsilon,W,u_t]\n",
    "for index, item in enumerate(endo_val_recession):\n",
    "    endo_val_recession[index] = round(float(item),3)\n",
    "table = dict(zip(endo_varnames, endo_val_recession))"
   ]
  },
  {
   "cell_type": "code",
   "execution_count": 203,
   "metadata": {
    "collapsed": false,
    "scrolled": true
   },
   "outputs": [
    {
     "name": "stdout",
     "output_type": "stream",
     "text": [
      "Variable Recession:y=0.976 & b=0.7\n",
      "V_u               35.216          \n",
      "e                  0.95           \n",
      "J_e                0.92           \n",
      "W                 36.965          \n",
      "u_t                0.966          \n",
      "m                  0.038          \n",
      "mu                 1.035          \n",
      "V_e               36.136          \n",
      "s                  0.619          \n",
      "u                  0.05           \n",
      "t                  0.037          \n",
      "w                  0.94           \n",
      "upsilon            0.017          \n",
      "theta              0.476          \n",
      "gamma              0.238          \n"
     ]
    }
   ],
   "source": [
    "print \"{:<8} {:^25}\".format('Variable','Recession:y=0.976 & b=0.7')\n",
    "for k, v in table.iteritems():\n",
    "    print \"{:<8} {:^25}\".format(k, v)"
   ]
  },
  {
   "cell_type": "markdown",
   "metadata": {},
   "source": [
    "In Table 3 below we present our intermediate results of simulations for steady states over the business cycle."
   ]
  },
  {
   "cell_type": "markdown",
   "metadata": {},
   "source": [
    "__Table 3. Comparison of steady states over the business cycle with constant policy__\n",
    "\n",
    "| Variable   | Baseline y = 1.0 & b = 0.7 | Recession y = 0.976 & b = 0.7  |\n",
    "|------------|:--------------------------:|:------------------------------:|\n",
    "| $V_u$      |           34.348           |             33.361             |\n",
    "| $w$        |            0.905           |              0.891             |\n",
    "| $J_e$      |            0.749           |              0.927             |\n",
    "| $\\theta$   |            0.316           |              0.483             |\n",
    "| $s$        |            0.61            |              0.61              |\n",
    "| $\\gamma$   |            0.141           |              0.229             |\n",
    "| $\\mu$      |            0.843           |              1.043             |\n",
    "| $V_e$      |           35.061           |              34.24             |\n",
    "| $u$        |            0.072           |              0.05              |\n",
    "| $e$        |            0.928           |              0.95              |\n",
    "| $t$        |            0.055           |              0.037             |\n",
    "| $m$        |            0.037           |              0.038             |\n",
    "| $\\upsilon$ |            0.014           |              0.018             |\n",
    "| $W$        |           35.704           |             35.077             |\n",
    "| $u_t$      |            1.187           |              0.959             |"
   ]
  },
  {
   "cell_type": "markdown",
   "metadata": {},
   "source": [
    "#### Policy change: a higher replacement rate during recession<a id='pol'></a>"
   ]
  },
  {
   "cell_type": "markdown",
   "metadata": {},
   "source": [
    "We set b = 0.8, an increase of 10 %pt, or a raise of about 14.3%"
   ]
  },
  {
   "cell_type": "code",
   "execution_count": 121,
   "metadata": {
    "collapsed": false
   },
   "outputs": [
    {
     "data": {
      "text/plain": [
       "0.97607178464606192"
      ]
     },
     "execution_count": 121,
     "metadata": {},
     "output_type": "execute_result"
    }
   ],
   "source": [
    "b = 0.8 # We adjust the replacement rate\n",
    "\n",
    "y_low # We keep the economy in recession"
   ]
  },
  {
   "cell_type": "markdown",
   "metadata": {},
   "source": [
    "We again solve the model for the endogenous variables in the new steady state."
   ]
  },
  {
   "cell_type": "code",
   "execution_count": 170,
   "metadata": {
    "collapsed": false
   },
   "outputs": [],
   "source": [
    "# find fixed point\n",
    "t = 0.0\n",
    "\n",
    "def gamma(s):\n",
    "    return ((1.0-(1.0-s)**(1.0-kappa)))/(1.0-kappa) -s\n",
    "\n",
    "def fixed_point(v_u):\n",
    "    w = (1.0-beta)*rho*v_u + beta * (y_low/(1.0+t))\n",
    "    J_e = (y_low-(1.0+t)*w)/(rho+delta)\n",
    "    theta = ((A*J_e)/(c_ups))**(1.0/(1.0-eta))\n",
    "    # find optimal s for given values of theta and v_u    \n",
    "    s_max = optimize.fminbound(lambda s: -(b*w - gamma(s) + A*(theta**eta)*s*(w/(rho+delta) - rho/(rho+delta)*v_u)),0,1,disp=1)\n",
    "    output = (b*w - gamma(s_max) + A*(theta**eta)*s_max*(w/(rho+delta) - rho/(rho+delta)*v_u))/rho\n",
    "    return output - v_u"
   ]
  },
  {
   "cell_type": "code",
   "execution_count": 171,
   "metadata": {
    "collapsed": false,
    "scrolled": false
   },
   "outputs": [
    {
     "data": {
      "text/plain": [
       "array([ 35.2162615])"
      ]
     },
     "execution_count": 171,
     "metadata": {},
     "output_type": "execute_result"
    }
   ],
   "source": [
    "V_u = optimize.fsolve(fixed_point, 5.0)\n",
    "V_u"
   ]
  },
  {
   "cell_type": "code",
   "execution_count": 172,
   "metadata": {
    "collapsed": false
   },
   "outputs": [],
   "source": [
    "# endogenous variables\n",
    "w = (1.0-beta)*rho*V_u + beta * (y/(1.0+t))\n",
    "J_e = (y-(1.0+t)*w)/(rho+delta)\n",
    "theta = ((A*J_e)/(c_ups))**(1.0/(1.0-eta))\n",
    "s_max = optimize.fminbound(lambda s: -(b*w - gamma(s) + A*(theta**eta)*s*(w/(rho+delta) - rho/(rho+delta)*V_u)),0,1,disp=1)\n",
    "gamma = ((1.0-(1-s_max)**(1-kappa)))/(1-kappa) - s_max\n",
    "mu = A*(theta**eta)\n",
    "V_e = (w + delta*V_u)/(rho+delta)\n",
    "u = delta/(mu*s_max + delta)\n",
    "e = 1 - u\n",
    "t = (u*b*w)/(e*w)\n",
    "m = s_max*u*A*(theta**eta)\n",
    "upsilon = (m/(A*(s_max*u)**(1-eta)))**(1/eta)\n",
    "W = u*V_u + e*(V_e + J_e) # note: total value of vacancies is zero\n",
    "u_t = 1/mu"
   ]
  },
  {
   "cell_type": "code",
   "execution_count": 173,
   "metadata": {
    "collapsed": false
   },
   "outputs": [],
   "source": [
    "# Create table for results.\n",
    "endo_val_policy = [V_u,w,J_e,theta,s,gamma,mu,V_e,u,e,t,m,upsilon,W,u_t]\n",
    "for index, item in enumerate(endo_val_policy):\n",
    "    endo_val_policy[index] = round(float(item),3)\n",
    "table = dict(zip(endo_varnames, endo_val_policy))"
   ]
  },
  {
   "cell_type": "code",
   "execution_count": 174,
   "metadata": {
    "collapsed": false,
    "scrolled": true
   },
   "outputs": [
    {
     "name": "stdout",
     "output_type": "stream",
     "text": [
      "Variable Policy change:y=0.976 & b=0.8\n",
      "V_u               35.216          \n",
      "e                  0.95           \n",
      "J_e                0.92           \n",
      "W                 36.965          \n",
      "u_t                0.966          \n",
      "m                  0.038          \n",
      "mu                 1.035          \n",
      "V_e               36.136          \n",
      "s                  0.619          \n",
      "u                  0.05           \n",
      "t                  0.037          \n",
      "w                  0.94           \n",
      "upsilon            0.017          \n",
      "theta              0.476          \n",
      "gamma              0.238          \n"
     ]
    }
   ],
   "source": [
    "print \"{:<8} {:^25}\".format('Variable','Policy change:y=0.976 & b=0.8')\n",
    "for k, v in table.iteritems():\n",
    "    print \"{:<8} {:^25}\".format(k, v)"
   ]
  },
  {
   "cell_type": "markdown",
   "metadata": {},
   "source": [
    "## Results"
   ]
  },
  {
   "cell_type": "markdown",
   "metadata": {},
   "source": []
  },
  {
   "cell_type": "markdown",
   "metadata": {},
   "source": [
    "| Variable   | Baseline y = 1.0 & b = 0.7 | Recession y = 0.976 & b = 0.7  | Policy change y = 0.976 & b = 0.8 |\n",
    "|------------|:--------------------------:|:------------------------------:|:---------------------------------:|\n",
    "| $V_u$      |           34.348           |             33.361             |               34.423              |\n",
    "| $w$        |            0.905           |              0.891             |               0.912               |\n",
    "| $J_e$      |            0.749           |              0.927             |               0.828               |\n",
    "| $\\theta$   |            0.316           |              0.483             |               0.386               |\n",
    "| $s$        |            0.61            |              0.61              |                0.61               |\n",
    "| $\\gamma$   |            0.141           |              0.229             |               0.182               |\n",
    "| $\\mu$      |            0.843           |              1.043             |               0.932               |\n",
    "| $V_e$      |           35.061           |              34.24             |               35.222              |\n",
    "| $u$        |            0.072           |              0.05              |                0.06               |\n",
    "| $e$        |            0.928           |              0.95              |                0.94               |\n",
    "| $t$        |            0.055           |              0.037             |               0.051               |\n",
    "| $m$        |            0.037           |              0.038             |               0.038               |\n",
    "| $\\upsilon$ |            0.014           |              0.018             |               0.016               |\n",
    "| $W$        |           35.704           |             35.077             |               35.952              |\n",
    "| $u_t$      |            1.187           |              0.959             |               1.073               |"
   ]
  },
  {
   "cell_type": "markdown",
   "metadata": {},
   "source": [
    "__[Four graphs in one field of W,u,s,V_u on b for y=1 and y =0.9x]__"
   ]
  },
  {
   "cell_type": "markdown",
   "metadata": {},
   "source": [
    "__[analysis]__"
   ]
  },
  {
   "cell_type": "markdown",
   "metadata": {},
   "source": [
    "### Sensitivity analysis<a id='sens'></a>\n",
    "On A and/or rho?\n",
    "Take drastic recession, e.g. Spain or Greece?\n",
    "\n",
    "__[Work]__"
   ]
  },
  {
   "cell_type": "markdown",
   "metadata": {},
   "source": [
    "## Conclusion and discussion of results\n",
    "\n",
    "The are two major limitations. We have conducted a partial-equilibrium analysis of the effects of an increase in the replacement rate of unemployment benefits on labor market outcomes. Since our model does not include feedback effects from higher unemployment benefits via aggregate demand to demand for labor, we consider our results to be a worst-case scenario. Most likely, the higher unemployment benefits will result in a positive feedback on labor productivity, ultimately leading to a higher employment rate. Similarly, we have abstracted from labor supply decisions.\n",
    "\n",
    "\n",
    "\n",
    "__[More on results]__\n"
   ]
  },
  {
   "cell_type": "code",
   "execution_count": null,
   "metadata": {
    "collapsed": true
   },
   "outputs": [],
   "source": []
  }
 ],
 "metadata": {
  "kernelspec": {
   "display_name": "Python 2",
   "language": "python",
   "name": "python2"
  },
  "language_info": {
   "codemirror_mode": {
    "name": "ipython",
    "version": 2
   },
   "file_extension": ".py",
   "mimetype": "text/x-python",
   "name": "python",
   "nbconvert_exporter": "python",
   "pygments_lexer": "ipython2",
   "version": "2.7.11"
  }
 },
 "nbformat": 4,
 "nbformat_minor": 0
}
