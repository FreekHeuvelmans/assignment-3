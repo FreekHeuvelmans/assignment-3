{
 "cells": [
  {
   "cell_type": "markdown",
   "metadata": {},
   "source": [
    "# Adjusting the generosity of unemployment benefits over the business cycle"
   ]
  },
  {
   "cell_type": "markdown",
   "metadata": {},
   "source": [
    "* Janneke Horenga (541639) - [jannekehorenga](http://jannekehorenga.github.io/)\n",
    "* Bart de Geus (561375) - [bartdegeus](http://bartdegeus.github.io/)"
   ]
  },
  {
   "cell_type": "markdown",
   "metadata": {},
   "source": [
    "Methods: Numerical Simulation, Assignment 3, April 14th, 2016"
   ]
  },
  {
   "cell_type": "markdown",
   "metadata": {},
   "source": [
    "### Research question"
   ]
  },
  {
   "cell_type": "markdown",
   "metadata": {},
   "source": [
    "What would be the effect on search intensity, the value of unemployment, unemployment duration and the job finding rate of increasing the replacement rate of unemployment benefits during a recession?"
   ]
  },
  {
   "cell_type": "markdown",
   "metadata": {},
   "source": [
    "### Motivation"
   ]
  },
  {
   "cell_type": "markdown",
   "metadata": {},
   "source": [
    "During the Great Recession many European economies saw steep increases in the  unemployment rate (see this [Table from OECD data](https://data.oecd.org/chart/4v74)). With job finding rates low and more long-term unemployment, governments might expand the generosity of unemployment insurance benefits to ease economic pain for the unemployed and reduce the shortfall in aggregate demand [(Moffit 2014, p.5)](http://wol.iza.org/articles/unemployment-benefits-and-unemployment.pdf/). One way is to lengthen the duration of the benefit period, the effects of which have already been surveyed by [Tatsiramos and Van Ours (2012)](http://onlinelibrary.wiley.com/doi/10.1111/joes.12005/abstract). A second option for governments is to increase the benefit level during a recession, which may be more effective in keeping up aggregate demand in the short-term. Benefit levels are commonly measured by the net income replacement rate, the ratio of benefits to the recepients earnings on the terminated job [(Moffit 2014, p.3)](http://wol.iza.org/articles/unemployment-benefits-and-unemployment.pdf/).\n",
    "\n",
    "But any adjustment to the generosity of benefits must balance the improvement in welfare with expected side-effects, the most important of which is moral hazard among job-seekers. An increase in the replacement rate reduces the gains from taking a job during the benefit period and benefit recepients might lower their search effort in response. This could slow down a recovery [(Moffit 2014, p.6)](http://wol.iza.org/articles/unemployment-benefits-and-unemployment.pdf/). We therefore ask what would be the effect of an increase in the replacement rate on the following labor market outcomes and welfare measures: search intensity, the value of unemployment, unemployment duration and the job finding rate.\n"
   ]
  },
  {
   "cell_type": "markdown",
   "metadata": {},
   "source": [
    "### Answer"
   ]
  },
  {
   "cell_type": "code",
   "execution_count": 1,
   "metadata": {
    "collapsed": false
   },
   "outputs": [
    {
     "name": "stdout",
     "output_type": "stream",
     "text": [
      "Object `` not found.\n"
     ]
    }
   ],
   "source": [
    "??"
   ]
  },
  {
   "cell_type": "markdown",
   "metadata": {},
   "source": [
    "### Method"
   ]
  },
  {
   "cell_type": "markdown",
   "metadata": {},
   "source": [
    "We use a two-sided search-matching model of a dynamic labor market from [Boeri and Van Ours (2013, sec 11.9)](http://press.princeton.edu/titles/10142.html), which is a simplified version of the model used by [Boone and Van Ours (2006)](http://www.ingentaconnect.com/content/mohr/jite/2006/00000162/00000002/art00001/), to simulate the overall effects of a change in the replacement rate. Our model is limited in the sense that unemployement is caused by search frictions rather than demand. Moreover, because the model does not include a feedback loop from changes in the replacement rate to prodcut market demand, our work here is limited to an analysis of partial equilibrium.\n",
    "\n",
    "To simulate a recession we adjust the productivity parameter based on data from the Netherlands during the Great Recession. We calculate the relative change in GDP per unit worked and compare labor market outcomes under both states of the business cycle. To answer our research question we increase the replacement rate of unemployment insurance benefits from $b=0.7$ to $b=0.8$ and compare steady-state labor market outcomes for the two different levels of the replacement rate.\n",
    "\n",
    "We conduct a sensitivity analysis to determine the robustness of our results to changes in __[variables]__."
   ]
  },
  {
   "cell_type": "markdown",
   "metadata": {},
   "source": [
    "### Data"
   ]
  },
  {
   "cell_type": "markdown",
   "metadata": {},
   "source": [
    "We adjust several parameters to simulate a change in business cycle conditions. We adjust on the basis of observed reductions in a proxy for productivity, GDP per hour worked (index measure) from [OECD.Stat](http://stats.oecd.org/viewhtml.aspx?datasetcode=PDB_GR&lang=en#).\n",
    "\n",
    "Many parameter values are taken from others. \n"
   ]
  },
  {
   "cell_type": "markdown",
   "metadata": {
    "collapsed": true
   },
   "source": [
    "### Main assumptions"
   ]
  },
  {
   "cell_type": "markdown",
   "metadata": {},
   "source": [
    "We have made a number of assumptions.\n",
    "* A labor market as modeled in [Boeri and Van Ours (2013, sec 11.9)](http://press.princeton.edu/titles/10142.html)\n",
    "\n",
    "Some assumptions are implicit in the model:\n",
    "* Labor is homogenous and all employed workers receive the same wage;\n",
    "* Wages are flexible: unemployment arises because of search frictions;\n",
    "* Workers and firms are risk-neutral;\n",
    "* A linear felicity function of wages;\n",
    "* Workers can adjust their search effort to influence the probability of finding a job;\n",
    "* Unemployment insurance benefits are one-dimenional: there is a constant replacement rate and benefits last forever;\n",
    "* Labor supply is exogenous and the total labor force is set to $1$ (cf Boone and Van Ours (2006))\n",
    "* Entry for firms is free: the value of creating a vacancy ($J_{\\upsilon}$) is $0$"
   ]
  },
  {
   "cell_type": "markdown",
   "metadata": {},
   "source": [
    "## Model<a id='model'></a>"
   ]
  },
  {
   "cell_type": "markdown",
   "metadata": {},
   "source": [
    "### Model parameters"
   ]
  },
  {
   "cell_type": "markdown",
   "metadata": {},
   "source": [
    "#### Exogenous parameters <a id='exo'></a>"
   ]
  },
  {
   "cell_type": "markdown",
   "metadata": {},
   "source": [
    "|  Symbol  \t| Definition       \t|   \t|     Symbol     \t| Definition                  \t|\n",
    "|:--------:\t|------------------\t|---\t|:--------------:\t|-----------------------------\t|\n",
    "|    $b$   \t| replacement rate \t|   \t|     $\\beta$    \t| bargaining power of workers \t|\n",
    "|  $\\rho$  \t| discount rate    \t|   \t|       $y$      \t| productivity level          \t|\n",
    "| $\\kappa$ \t| search cost function parameter |   \t| $c_{\\upsilon}$ \t| cost of opening a vacancy\t|\n",
    "|  $\\eta$  \t| matching function parameter \t|   \t|    $\\delta$    \t| job destruction rate |\n",
    "|    $A$   \t| matching function parameter \t|   \t| \t|  |"
   ]
  },
  {
   "cell_type": "markdown",
   "metadata": {},
   "source": [
    "#### Endogenous parameters <a id='endo'></a>"
   ]
  },
  {
   "cell_type": "markdown",
   "metadata": {
    "collapsed": true
   },
   "source": [
    "|     Symbol     | Definiton                   |   |     Symbol    | Definition              |\n",
    "|:--------------:|-----------------------------|---|:-------------:|-------------------------|\n",
    "|    $\\gamma$    | disutility of job-search    |   |      $u$      | unemployed (share of labor force)    |\n",
    "|       $s$      | job-search effort by worker |   |      $e$      | employed (share of labor force)      |\n",
    "|      $V_u$     | value of unemployment       |   |      $m$      | period job matches      |\n",
    "|      $V_e$     | value of employment         |   |    $\\theta$   | labor market tightness  |\n",
    "|       $w$      | period wage                 |   |     $\\mu$     | job finding probability |\n",
    "|      $J_e$     | value of a job              |   |      $t$      | tax rate                |\n",
    "| $J_{\\upsilon}$ | value of a vacancy          |   |      $W$      | total welfare           |\n",
    "|   $\\upsilon$   | number of vacancies         |   |        |     |"
   ]
  },
  {
   "cell_type": "markdown",
   "metadata": {},
   "source": [
    "### Model equations"
   ]
  },
  {
   "cell_type": "markdown",
   "metadata": {},
   "source": [
    "A simplified model form [Boeri and Van Ours (2013, sec 11.9)](http://press.princeton.edu/titles/10142.html)"
   ]
  },
  {
   "cell_type": "markdown",
   "metadata": {},
   "source": [
    "#### Optimal job search intensity "
   ]
  },
  {
   "cell_type": "markdown",
   "metadata": {},
   "source": [
    "disutility of searching $$\\gamma\\left(s\\right)=\\frac{1-\\left(1-s\\right)^{1-\\kappa}}{1-\\kappa}-s$$\n",
    "\n",
    "with $ \\gamma(0)=0$ ; $ \\gamma'(0)=0$; $ \\gamma'(s)>0$ ; $ \\gamma''(s)>0$ ; $ \\lim_{s\\to 1} \\gamma'(s)=+\\infty $"
   ]
  },
  {
   "cell_type": "markdown",
   "metadata": {},
   "source": [
    "flow value of being unemployed $$ \\rho V_u = \\underset{0 \\le s \\le 1}{max}\\{b-\\gamma(s) + \\mu s (V_e - V_u) \\} $$"
   ]
  },
  {
   "cell_type": "markdown",
   "metadata": {},
   "source": [
    "flow value of being employed\n",
    "\n",
    "$$ \\rho V_e = w + \\delta \\left(V_u - V_e \\right) $$"
   ]
  },
  {
   "cell_type": "markdown",
   "metadata": {},
   "source": [
    "#### Vacancies and the matching function"
   ]
  },
  {
   "cell_type": "markdown",
   "metadata": {},
   "source": [
    "flow of matches\n",
    "\n",
    "$$ m\\left(s u,\\upsilon\\right) = A \\left(su\\right)^{1-\\eta} \\upsilon^{\\eta} $$"
   ]
  },
  {
   "cell_type": "markdown",
   "metadata": {},
   "source": [
    "search parameter for unemployed workers\n",
    "$$ \\mu = \\frac{m \\left(su, \\upsilon \\right)}{su} = A\\theta^{\\eta} $$\n",
    "\n",
    "with $\\theta=\\frac{\\upsilon}{su}$"
   ]
  },
  {
   "cell_type": "markdown",
   "metadata": {},
   "source": [
    "flow value of a job $$ \\rho J_e = y - (1+t)w + \\delta ( J_{\\upsilon} - J_e) $$"
   ]
  },
  {
   "cell_type": "markdown",
   "metadata": {},
   "source": [
    "flow value of a vacancy\n",
    "\n",
    "$$ \\rho J_{\\upsilon} = -c_{\\upsilon}+\\frac{\\mu}{\\theta}(J_e - J_{\\upsilon}) $$"
   ]
  },
  {
   "cell_type": "markdown",
   "metadata": {},
   "source": [
    "#### Wage bargaining"
   ]
  },
  {
   "cell_type": "markdown",
   "metadata": {},
   "source": [
    "$$ \\underset{w}{max}\\{(V_e - V_u)^{\\beta}(J_e - J_{\\upsilon})^{1-\\beta}\\} $$\n",
    "\n",
    "which gives $$ w = (1 - \\beta) \\rho V_u + \\beta \\frac{y}{1+t} $$"
   ]
  },
  {
   "cell_type": "markdown",
   "metadata": {},
   "source": [
    "#### Labor market participation"
   ]
  },
  {
   "cell_type": "markdown",
   "metadata": {},
   "source": [
    "labor market equilibrium condition $$ \\mu s u = \\delta e $$"
   ]
  },
  {
   "cell_type": "markdown",
   "metadata": {},
   "source": [
    "labor force participation rate $$ e + u = 1 $$"
   ]
  },
  {
   "cell_type": "markdown",
   "metadata": {},
   "source": [
    "#### Balanced budget requirement"
   ]
  },
  {
   "cell_type": "markdown",
   "metadata": {},
   "source": [
    "$$ etw = ub^w $$"
   ]
  },
  {
   "cell_type": "markdown",
   "metadata": {},
   "source": [
    "#### Total welfare\n",
    "\n",
    "We add total welfare from [Boone and Van Ours (2006)](http://www.ingentaconnect.com/content/mohr/jite/2006/00000162/00000002/art00001/)."
   ]
  },
  {
   "cell_type": "markdown",
   "metadata": {},
   "source": [
    "$$ W = uV_u + e(V_e+J_e)+\\upsilon J_{\\upsilon} $$"
   ]
  },
  {
   "cell_type": "markdown",
   "metadata": {},
   "source": [
    "## Execution"
   ]
  },
  {
   "cell_type": "markdown",
   "metadata": {},
   "source": [
    "### Importing libraries and packages"
   ]
  },
  {
   "cell_type": "code",
   "execution_count": 27,
   "metadata": {
    "collapsed": false
   },
   "outputs": [],
   "source": [
    "import math \n",
    "from scipy import arange, optimize\n",
    "import matplotlib.pyplot as plt\n",
    "%matplotlib inline\n",
    "import pandas as pd\n",
    "import numpy as np"
   ]
  },
  {
   "cell_type": "code",
   "execution_count": null,
   "metadata": {
    "collapsed": true
   },
   "outputs": [],
   "source": []
  },
  {
   "cell_type": "markdown",
   "metadata": {},
   "source": [
    "#### Baseline ####\n",
    "\n",
    "We start with a baseline scenario in which the economy is not in a recession. For this we can normalize the productivity parameter, $y=1$."
   ]
  },
  {
   "cell_type": "code",
   "execution_count": 28,
   "metadata": {
    "collapsed": false
   },
   "outputs": [
    {
     "data": {
      "text/html": [
       "<div>\n",
       "<table border=\"1\" class=\"dataframe\">\n",
       "  <thead>\n",
       "    <tr style=\"text-align: right;\">\n",
       "      <th></th>\n",
       "      <th>year</th>\n",
       "      <th>value</th>\n",
       "    </tr>\n",
       "  </thead>\n",
       "  <tbody>\n",
       "    <tr>\n",
       "      <th>0</th>\n",
       "      <td>2000</td>\n",
       "      <td>91.3</td>\n",
       "    </tr>\n",
       "    <tr>\n",
       "      <th>1</th>\n",
       "      <td>2001</td>\n",
       "      <td>92.1</td>\n",
       "    </tr>\n",
       "    <tr>\n",
       "      <th>2</th>\n",
       "      <td>2002</td>\n",
       "      <td>92.7</td>\n",
       "    </tr>\n",
       "    <tr>\n",
       "      <th>3</th>\n",
       "      <td>2003</td>\n",
       "      <td>94.0</td>\n",
       "    </tr>\n",
       "    <tr>\n",
       "      <th>4</th>\n",
       "      <td>2004</td>\n",
       "      <td>95.6</td>\n",
       "    </tr>\n",
       "    <tr>\n",
       "      <th>5</th>\n",
       "      <td>2005</td>\n",
       "      <td>98.0</td>\n",
       "    </tr>\n",
       "    <tr>\n",
       "      <th>6</th>\n",
       "      <td>2006</td>\n",
       "      <td>99.5</td>\n",
       "    </tr>\n",
       "    <tr>\n",
       "      <th>7</th>\n",
       "      <td>2007</td>\n",
       "      <td>100.3</td>\n",
       "    </tr>\n",
       "    <tr>\n",
       "      <th>8</th>\n",
       "      <td>2008</td>\n",
       "      <td>100.3</td>\n",
       "    </tr>\n",
       "    <tr>\n",
       "      <th>9</th>\n",
       "      <td>2009</td>\n",
       "      <td>97.9</td>\n",
       "    </tr>\n",
       "    <tr>\n",
       "      <th>10</th>\n",
       "      <td>2010</td>\n",
       "      <td>100.0</td>\n",
       "    </tr>\n",
       "    <tr>\n",
       "      <th>11</th>\n",
       "      <td>2011</td>\n",
       "      <td>100.7</td>\n",
       "    </tr>\n",
       "    <tr>\n",
       "      <th>12</th>\n",
       "      <td>2012</td>\n",
       "      <td>100.5</td>\n",
       "    </tr>\n",
       "    <tr>\n",
       "      <th>13</th>\n",
       "      <td>2013</td>\n",
       "      <td>100.8</td>\n",
       "    </tr>\n",
       "    <tr>\n",
       "      <th>14</th>\n",
       "      <td>2014</td>\n",
       "      <td>101.7</td>\n",
       "    </tr>\n",
       "    <tr>\n",
       "      <th>15</th>\n",
       "      <td>2015</td>\n",
       "      <td>102.8</td>\n",
       "    </tr>\n",
       "  </tbody>\n",
       "</table>\n",
       "</div>"
      ],
      "text/plain": [
       "    year  value\n",
       "0   2000   91.3\n",
       "1   2001   92.1\n",
       "2   2002   92.7\n",
       "3   2003   94.0\n",
       "4   2004   95.6\n",
       "5   2005   98.0\n",
       "6   2006   99.5\n",
       "7   2007  100.3\n",
       "8   2008  100.3\n",
       "9   2009   97.9\n",
       "10  2010  100.0\n",
       "11  2011  100.7\n",
       "12  2012  100.5\n",
       "13  2013  100.8\n",
       "14  2014  101.7\n",
       "15  2015  102.8"
      ]
     },
     "execution_count": 28,
     "metadata": {},
     "output_type": "execute_result"
    }
   ],
   "source": [
    "df = pd.read_csv('data.csv')\n",
    "df"
   ]
  },
  {
   "cell_type": "code",
   "execution_count": 29,
   "metadata": {
    "collapsed": false
   },
   "outputs": [
    {
     "data": {
      "text/plain": [
       "0     2000\n",
       "1     2001\n",
       "2     2002\n",
       "3     2003\n",
       "4     2004\n",
       "5     2005\n",
       "6     2006\n",
       "7     2007\n",
       "8     2008\n",
       "9     2009\n",
       "10    2010\n",
       "11    2011\n",
       "12    2012\n",
       "13    2013\n",
       "14    2014\n",
       "15    2015\n",
       "Name: year, dtype: int64"
      ]
     },
     "execution_count": 29,
     "metadata": {},
     "output_type": "execute_result"
    }
   ],
   "source": [
    "df.year"
   ]
  },
  {
   "cell_type": "code",
   "execution_count": 30,
   "metadata": {
    "collapsed": false
   },
   "outputs": [
    {
     "data": {
      "text/plain": [
       "0      91.3\n",
       "1      92.1\n",
       "2      92.7\n",
       "3      94.0\n",
       "4      95.6\n",
       "5      98.0\n",
       "6      99.5\n",
       "7     100.3\n",
       "8     100.3\n",
       "9      97.9\n",
       "10    100.0\n",
       "11    100.7\n",
       "12    100.5\n",
       "13    100.8\n",
       "14    101.7\n",
       "15    102.8\n",
       "Name: value, dtype: float64"
      ]
     },
     "execution_count": 30,
     "metadata": {},
     "output_type": "execute_result"
    }
   ],
   "source": [
    "df.value"
   ]
  },
  {
   "cell_type": "code",
   "execution_count": 3,
   "metadata": {
    "collapsed": false
   },
   "outputs": [],
   "source": [
    "# Exogenous parameters from Boone and Van Ours (2006)\n",
    "\n",
    "b = 0.7            # replacement rate\n",
    "rho = 0.10         # discount rate (annual)\n",
    "kappa = 0.5        # search cost function parameter\n",
    "eta = 0.5          # matching function parameter\n",
    "A = 1.0              # efficiency of matching function\n",
    "beta = 0.5         # bargaining power of workers\n",
    "y = 1.0              # productivity level\n",
    "c_ups = 2.0          # cost of opening a vacancy\n",
    "delta = 0.16       # job destruction rate (annual)\n",
    "\n",
    "t = 0.0\n",
    "\n",
    "# we further assume assume\n",
    "\n",
    "def e(u):\n",
    "    return 1 - u          # labor force normalized to 1: emploment and unemployment shares\n",
    "\n",
    "#def u(e):\n",
    "#    return 1- e\n",
    "\n",
    "J_ups = 0          # Value of vacancy bid down to 0 (cf. Boone and Van Ours (2006))"
   ]
  },
  {
   "cell_type": "markdown",
   "metadata": {},
   "source": [
    "We define those endogenous variables required to solve the model and those of interest for our comparison of steady states."
   ]
  },
  {
   "cell_type": "code",
   "execution_count": 4,
   "metadata": {
    "collapsed": false
   },
   "outputs": [],
   "source": [
    "# disutility from job search\n",
    "def gamma(s):\n",
    "    return ((1-(1-s)**(1-kappa)))/(1-kappa) -s ### jb: there was a type here; you wrote /(1-kappa -s)\n",
    "            \n",
    "#def m(s,u,v,A,eta):\n",
    "#    return A*((s*u)**(1-eta))*(v**eta)\n",
    "            \n",
    "#def mu(m,s,u):\n",
    "#    return (m/(s*u))\n",
    "            \n",
    "#def Je(y,t,delta,Jv,rho):\n",
    "#    return (y-((1-t)*t) + (delta*Jv))/(rho + (rho*delta))\n",
    "                   \n",
    "#def e(mu,s,u,delta):\n",
    "#    return (mu*s*u)/(delta)\n",
    "            \n",
    "#def G(e,u,N):\n",
    "#    return (e+u)/N\n",
    "\n",
    "#def w(beta,rho,Vu,y,t):\n",
    "#    return((1-beta)*rho*Vu) + (beta*(y/(1+t)))"
   ]
  },
  {
   "cell_type": "markdown",
   "metadata": {},
   "source": [
    "## jb\n",
    "\n",
    "python's problem is the mismatch between function f(x,y) with x and y scalars and x0 which is a vector.\n",
    "\n",
    "you need to look for sensible starting values x0 to get the algorithm going\n",
    "\n",
    "## jb 2\n",
    "\n",
    "As I was working on it anyway, I simplified the fixed-point function to one variable $V_u$.\n",
    "\n",
    "Now `optimize.fsolve` can solve this function without problems"
   ]
  },
  {
   "cell_type": "code",
   "execution_count": 5,
   "metadata": {
    "collapsed": true
   },
   "outputs": [],
   "source": [
    "def fixed_point(v_u):\n",
    "    w = (1-beta)*rho*v_u + beta * (y/(1+t))\n",
    "    J_e = (y-(1+t)*w)/(rho+delta)\n",
    "    theta = ((A*J_e)/(c_ups))**(1/(1-eta))\n",
    "    # find optimal s for given values of theta and v_u    \n",
    "    s_max = optimize.fminbound(lambda s: -(b*w - gamma(s) + A*(theta**eta)*s*(w/(rho+delta) - rho/(rho+delta)*v_u)),0,1,disp=1)\n",
    "    # s_max = 0.5\n",
    "    output = (b*w - gamma(s_max) + A*(theta**eta)*s_max*(w/(rho+delta) - rho/(rho+delta)*v_u))/rho\n",
    "    return output - v_u"
   ]
  },
  {
   "cell_type": "code",
   "execution_count": 23,
   "metadata": {
    "collapsed": false
   },
   "outputs": [
    {
     "name": "stdout",
     "output_type": "stream",
     "text": [
      "[ 6.22782702]\n"
     ]
    }
   ],
   "source": [
    "V_u = optimize.fsolve(fixed_point, 5)\n",
    "print V_u"
   ]
  },
  {
   "cell_type": "markdown",
   "metadata": {},
   "source": [
    "???????? MOet dit er wel in"
   ]
  },
  {
   "cell_type": "code",
   "execution_count": 7,
   "metadata": {
    "collapsed": false
   },
   "outputs": [
    {
     "data": {
      "text/plain": [
       "[<matplotlib.lines.Line2D at 0x7a10860>]"
      ]
     },
     "execution_count": 7,
     "metadata": {},
     "output_type": "execute_result"
    },
    {
     "data": {
      "image/png": "[encoded data removed]",
      "text/plain": [
       "<matplotlib.figure.Figure at 0x40838d0>"
      ]
     },
     "metadata": {},
     "output_type": "display_data"
    }
   ],
   "source": [
    "range_v_u = arange(0.0,10.0)\n",
    "range_zero_x = arange(0.0.10.0)\n",
    "range_fixed_point = [fixed_point(v_u) for v_u in range_v_u]\n",
    "range_zero_y\n",
    "\n",
    "plt.clf\n",
    "plt.plot (range_v_u, range_fixed_point, 'r-')\n",
    "plt.plot (,)"
   ]
  },
  {
   "cell_type": "markdown",
   "metadata": {},
   "source": [
    "The [exogenous parameters](#exo)"
   ]
  },
  {
   "cell_type": "markdown",
   "metadata": {
    "collapsed": true
   },
   "source": [
    "The [endogenous parameters](#endo)"
   ]
  },
  {
   "cell_type": "markdown",
   "metadata": {},
   "source": [
    "#### Endogenous parameters <a id='endo'></a>"
   ]
  },
  {
   "cell_type": "markdown",
   "metadata": {},
   "source": [
    "|     Symbol     | value                       |   |     Symbol    | Value                   |\n",
    "|:--------------:|-----------------------------|---|:-------------:|-------------------------|\n",
    "|    $\\gamma$    | print gamma(s_max)          |   |      $u$      | unemployed (share of labor force)    |\n",
    "|       $s$      | job-search effort by worker |   |      $e$      | employed (share of labor force)      |\n",
    "|      $V_u$     | value of unemployment       |   |      $m$      | period job matches      |\n",
    "|      $V_e$     | value of employment         |   |    $\\theta$   | labor market tightness  |\n",
    "|       $w$      | period wage                 |   |     $\\mu$     | job finding probability |\n",
    "|      $J_e$     | value of a job              |   |      $t$      | tax rate                |\n",
    "| $J_{\\upsilon}$ | value of a vacancy          |   |      $W$      | total welfare           |\n",
    "|   $\\upsilon$   | number of vacancies         |   |        |     |"
   ]
  },
  {
   "cell_type": "markdown",
   "metadata": {
    "collapsed": false
   },
   "source": [
    "##Results"
   ]
  },
  {
   "cell_type": "markdown",
   "metadata": {},
   "source": [
    "###Baseline"
   ]
  },
  {
   "cell_type": "markdown",
   "metadata": {},
   "source": [
    "The data from OECD shows small differences during the last 15 years. The baseline has been set at 2010 and is valued at 100.0. "
   ]
  },
  {
   "cell_type": "code",
   "execution_count": 31,
   "metadata": {
    "collapsed": false
   },
   "outputs": [
    {
     "data": {
      "image/png": "[encoded data removed]",
      "text/plain": [
       "<matplotlib.figure.Figure at 0x8df82b0>"
      ]
     },
     "metadata": {},
     "output_type": "display_data"
    }
   ],
   "source": [
    "baseline = 100.0\n",
    "plt.bar(df.year, df.value-baseline, bottom=baseline)\n",
    "plt.xlabel ('year')\n",
    "plt.ylabel ('index', rotation=0)\n",
    "plt.title ('Productivity (GDP per hour worked)')\n",
    "plt.savefig ('Productivity_bar.png')"
   ]
  },
  {
   "cell_type": "markdown",
   "metadata": {},
   "source": [
    "### A recession"
   ]
  },
  {
   "cell_type": "markdown",
   "metadata": {
    "collapsed": true
   },
   "source": [
    "???????MOet dit er wel in? \n",
    "\n",
    "2007 was the beginning of a global financial crisis due the rapidly growth of house prices in contrast with the wage, financial sector had created 'to much' money for loans. This two events resulted in more and higher loans, though the debtor could not even pay off his old and eventually his new loans. Due to the crisis, banks acted more carefully, what caused a shrinkable economy. Both companies and individuals were unable to borrow big amount of money to expand their (personal) businesses. A recession was the result of the banks' restraint, and placed the economy into a downward spiral. Businesses were facing bankruptcy and tried to stay alive through cutting the budget. Employees got fired due to those failures and cuts, whilst the entire jobmarket dropped to a historical low level world wide."
   ]
  },
  {
   "cell_type": "code",
   "execution_count": null,
   "metadata": {
    "collapsed": true
   },
   "outputs": [],
   "source": []
  }
 ],
 "metadata": {
  "kernelspec": {
   "display_name": "Python 2",
   "language": "python",
   "name": "python2"
  },
  "language_info": {
   "codemirror_mode": {
    "name": "ipython",
    "version": 2
   },
   "file_extension": ".py",
   "mimetype": "text/x-python",
   "name": "python",
   "nbconvert_exporter": "python",
   "pygments_lexer": "ipython2",
   "version": "2.7.11"
  }
 },
 "nbformat": 4,
 "nbformat_minor": 0
}
