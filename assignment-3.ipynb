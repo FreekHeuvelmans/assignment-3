{
 "cells": [
  {
   "cell_type": "markdown",
   "metadata": {},
   "source": [
    "# Adjusting the generosity of unemployment benefits over the business cycle(*)"
   ]
  },
  {
   "cell_type": "markdown",
   "metadata": {},
   "source": [
    "* Janneke Horenga (541639) - [jannekehorenga](http://jannekehorenga.github.io/)\n",
    "* Bart de Geus (561375) - [bartdegeus](http://bartdegeus.github.io/)"
   ]
  },
  {
   "cell_type": "markdown",
   "metadata": {},
   "source": [
    "###### (*) Third assignment for the course Methods: Numerical Simulation, April 15th, 2016. We thank prof. Boone for the fixed-point algorithm and numerous tips."
   ]
  },
  {
   "cell_type": "markdown",
   "metadata": {},
   "source": [
    "### Research question\n",
    "What would be the effect on job-search intensity, the value of unemployment, unemployment duration and aggregate welfare of increasing the replacement rate of unemployment benefits during a recession?"
   ]
  },
  {
   "cell_type": "markdown",
   "metadata": {},
   "source": [
    "### Motivation\n",
    "During the Great Recession many European economies saw steep increases in the  unemployment rate (see this [Table from OECD data](https://data.oecd.org/chart/4v74)). With job finding rates low and more long-term unemployment, governments might expand the generosity of unemployment insurance benefits to ease economic pain for the unemployed and reduce the shortfall in aggregate demand [(Moffit 2014, p.5)](http://wol.iza.org/articles/unemployment-benefits-and-unemployment.pdf/). One way is to lengthen the duration of the benefit period, the effects of which have already been surveyed by [Tatsiramos and Van Ours (2012)](http://onlinelibrary.wiley.com/doi/10.1111/joes.12005/abstract). A second option for governments is to increase the benefit level during a recession, which may be more effective in keeping up aggregate demand in the short-term. Benefit levels are commonly measured by the net income replacement rate, the ratio of benefits to the recepients earnings on the terminated job [(Moffit 2014, p.3)](http://wol.iza.org/articles/unemployment-benefits-and-unemployment.pdf/).\n",
    "\n",
    "But any adjustment to the generosity of benefits must balance the improvement in welfare with expected side-effects, the most important of which is moral hazard among job-seekers. An increase in the replacement rate reduces the gains from taking a job during the benefit period and benefit recepients might lower their search effort in response. This could slow down a recovery [(Moffit 2014, p.6)](http://wol.iza.org/articles/unemployment-benefits-and-unemployment.pdf/). We therefore ask what would be the effect of an increase in the replacement rate on the following labor market outcomes and welfare measures: job-search intensity, the value of unemployment, unemployment duration and aggregate welfare."
   ]
  },
  {
   "cell_type": "markdown",
   "metadata": {},
   "source": [
    "### Method\n",
    "We use a two-sided search-matching model of a dynamic labor market from [Boeri and Van Ours (2013, sec 11.9)](http://press.princeton.edu/titles/10142.html), which is a simplified version of the model used by [Boone and Van Ours (2006)](http://www.ingentaconnect.com/content/mohr/jite/2006/00000162/00000002/art00001/), to simulate the overall effects of a change in the replacement rate. Our model is limited in the sense that unemployement is caused by search frictions rather than demand shortfalls. Moreover, because the model does not include a feedback loop from changes in the replacement rate to product market demand, our work here is limited to an analysis of partial equilibrium.\n",
    "\n",
    "To simulate a recession we adjust the productivity parameter based on data from the Netherlands during the Great Recession. We calculate the relative change in GDP per unit worked and compare labor market outcomes under both states of the business cycle. To answer our research question we increase the replacement rate of unemployment insurance benefits from $b=0.7$ to $b=0.8$ and compare steady-state labor market outcomes for the two different levels of the replacement rate.\n",
    "\n",
    "We conduct a sensitivity analysis to determine the robustness of our results to changes in __[variables]__."
   ]
  },
  {
   "cell_type": "markdown",
   "metadata": {},
   "source": [
    "### Answer\n",
    "A recession that is characterized by a __[xx.xx]__ % decrease in labor productivity will __[Effects]__"
   ]
  },
  {
   "cell_type": "markdown",
   "metadata": {},
   "source": [
    "### Main assumptions\n",
    "We have made a number of assumptions.\n",
    "* A labor market as [modelled](#equations) in [Boeri and Van Ours (2013, sec 11.9)](http://press.princeton.edu/titles/10142.html);\n",
    "* A fall in the level of labor productivity as a proxy for demand shortfall to simulate a recession;\n",
    "* We take values for the [exogenous parameters](#exo) from [Boone and Van Ours (2006, p. 238-9)](http://www.ingentaconnect.com/content/mohr/jite/2006/00000162/00000002/art00001/) as an approximation of a labor market in a developed economy. We conduct a [sensitivity analysis](#sens) on  __[Variables]__;\n",
    "* A [policy change](#pol) in which the unemployment benefit replacement rate is raised from 0.7 to 0.8.\n",
    "\n",
    "Some assumptions are implicit in the model:\n",
    "* Labor is homogenous and all employed workers receive the same wage;\n",
    "* Wages are flexible: unemployment arises because of search frictions;\n",
    "* Workers and firms are risk-neutral;\n",
    "* A linear felicity function of wages;\n",
    "* Workers can adjust their search effort to influence the probability of finding a job;\n",
    "* Unemployment insurance benefits are one-dimenional: there is a constant replacement rate and benefits last forever;\n",
    "* Labor supply is exogenous and the total labor force is set to $1$ (cf Boone and Van Ours (2006))\n",
    "* Entry for firms is free: the value of creating a vacancy ($J_{\\upsilon}$) is $0$"
   ]
  },
  {
   "cell_type": "markdown",
   "metadata": {},
   "source": [
    "## Execution"
   ]
  },
  {
   "cell_type": "markdown",
   "metadata": {},
   "source": [
    "### Importing libraries and packages"
   ]
  },
  {
   "cell_type": "code",
   "execution_count": 9,
   "metadata": {
    "collapsed": false
   },
   "outputs": [],
   "source": [
    "import math\n",
    "import numpy as np\n",
    "import pandas as pd\n",
    "from scipy import arange, optimize\n",
    "import matplotlib.pyplot as plt\n",
    "%matplotlib inline"
   ]
  },
  {
   "cell_type": "markdown",
   "metadata": {},
   "source": [
    "### Model<a id='model'></a>"
   ]
  },
  {
   "cell_type": "markdown",
   "metadata": {},
   "source": [
    "#### Exogenous parameters <a id='exo'></a>"
   ]
  },
  {
   "cell_type": "markdown",
   "metadata": {},
   "source": [
    "A simplified model form [Boeri and Van Ours (2013, sec 11.9)](http://press.princeton.edu/titles/10142.html)."
   ]
  },
  {
   "cell_type": "markdown",
   "metadata": {},
   "source": [
    "|  Symbol  \t| Definition       \t|   \t|     Symbol     \t| Definition                  \t|\n",
    "|:--------:\t|------------------\t|---\t|:--------------:\t|-----------------------------\t|\n",
    "|    $b$   \t| replacement rate \t|   \t|     $\\beta$    \t| bargaining power of workers \t|\n",
    "|  $\\rho$  \t| discount rate    \t|   \t|       $y$      \t| productivity level          \t|\n",
    "| $\\kappa$ \t| search cost function parameter |   \t| $c_{\\upsilon}$ \t| cost of opening a vacancy\t|\n",
    "|  $\\eta$  \t| matching function parameter \t|   \t|    $\\delta$    \t| job destruction rate |\n",
    "|    $A$   \t| matching function parameter \t|   \t| \t|  |"
   ]
  },
  {
   "cell_type": "code",
   "execution_count": 3,
   "metadata": {
    "collapsed": true
   },
   "outputs": [],
   "source": [
    "# Exogenous parameters from Boone and Van Ours (2006)\n",
    "\n",
    "rho = 0.10         # discount rate (annual)\n",
    "kappa = 0.5        # search cost function parameter\n",
    "eta = 0.5          # matching function parameter\n",
    "A = 1.0            # efficiency of matching function\n",
    "beta = 0.5         # bargaining power of workers\n",
    "c_ups = 2.0        # cost of opening a vacancy\n",
    "delta = 0.16       # job destruction rate (annual)"
   ]
  },
  {
   "cell_type": "markdown",
   "metadata": {},
   "source": [
    "#### Endogenous parameters <a id='endo'></a>"
   ]
  },
  {
   "cell_type": "markdown",
   "metadata": {
    "collapsed": true
   },
   "source": [
    "|     Symbol     | Definiton                   |   |     Symbol    | Definition              |\n",
    "|:--------------:|-----------------------------|---|:-------------:|-------------------------|\n",
    "|    $\\gamma$    | disutility of job-search    |   |      $u$      | unemployed (share of labor force)    |\n",
    "|       $s$      | job-search effort by worker |   |      $e$      | employed (share of labor force)      |\n",
    "|      $V_u$     | value of unemployment       |   |      $m$      | period job matches      |\n",
    "|      $V_e$     | value of employment         |   |    $\\theta$   | labor market tightness  |\n",
    "|       $w$      | period wage                 |   |     $\\mu$     | job finding probability |\n",
    "|      $J_e$     | value of a job              |   |      $t$      | tax rate                |\n",
    "| $J_{\\upsilon}$ | value of a vacancy          |   |      $W$      | total welfare           |\n",
    "|   $\\upsilon$   | number of vacancies         |   |        |     |"
   ]
  },
  {
   "cell_type": "code",
   "execution_count": 5,
   "metadata": {
    "collapsed": true
   },
   "outputs": [],
   "source": [
    "# Restrictions on endogenous variables\n",
    "\n",
    "J_ups = 0          # Value of vacancy bid down to 0 (cf. Boone and Van Ours (2006))\n",
    "\n",
    "t = 0.0            # tax rate (set temporarily for finding fixed-points)"
   ]
  },
  {
   "cell_type": "markdown",
   "metadata": {},
   "source": [
    "### Model equations<a id='equations'></a>"
   ]
  },
  {
   "cell_type": "markdown",
   "metadata": {},
   "source": [
    "#### Optimal job search intensity "
   ]
  },
  {
   "cell_type": "markdown",
   "metadata": {},
   "source": [
    "disutility of searching $$\\gamma\\left(s\\right)=\\frac{1-\\left(1-s\\right)^{1-\\kappa}}{1-\\kappa}-s$$\n",
    "\n",
    "with $ \\gamma(0)=0$ ; $ \\gamma'(0)=0$; $ \\gamma'(s)>0$ ; $ \\gamma''(s)>0$ ; $ \\lim_{s\\to 1} \\gamma'(s)=+\\infty $"
   ]
  },
  {
   "cell_type": "markdown",
   "metadata": {},
   "source": [
    "flow value of being unemployed $$ \\rho V_u = \\underset{0 \\le s \\le 1}{max}\\{b-\\gamma(s) + \\mu s (V_e - V_u) \\} $$"
   ]
  },
  {
   "cell_type": "markdown",
   "metadata": {},
   "source": [
    "flow value of being employed\n",
    "\n",
    "$$ \\rho V_e = w + \\delta \\left(V_u - V_e \\right) $$"
   ]
  },
  {
   "cell_type": "markdown",
   "metadata": {},
   "source": [
    "#### Vacancies and the matching function"
   ]
  },
  {
   "cell_type": "markdown",
   "metadata": {},
   "source": [
    "flow of matches\n",
    "\n",
    "$$ m\\left(s u,\\upsilon\\right) = A \\left(su\\right)^{1-\\eta} \\upsilon^{\\eta} $$"
   ]
  },
  {
   "cell_type": "markdown",
   "metadata": {},
   "source": [
    "search parameter for unemployed workers\n",
    "$$ \\mu = \\frac{m \\left(su, \\upsilon \\right)}{su} = A\\theta^{\\eta} $$\n",
    "\n",
    "with $\\theta=\\frac{\\upsilon}{su}$"
   ]
  },
  {
   "cell_type": "markdown",
   "metadata": {},
   "source": [
    "flow value of a job $$ \\rho J_e = y - (1+t)w + \\delta ( J_{\\upsilon} - J_e) $$"
   ]
  },
  {
   "cell_type": "markdown",
   "metadata": {},
   "source": [
    "flow value of a vacancy\n",
    "\n",
    "$$ \\rho J_{\\upsilon} = -c_{\\upsilon}+\\frac{\\mu}{\\theta}(J_e - J_{\\upsilon}) $$"
   ]
  },
  {
   "cell_type": "markdown",
   "metadata": {},
   "source": [
    "#### Wage bargaining"
   ]
  },
  {
   "cell_type": "markdown",
   "metadata": {},
   "source": [
    "$$ \\underset{w}{max}\\{(V_e - V_u)^{\\beta}(J_e - J_{\\upsilon})^{1-\\beta}\\} $$\n",
    "\n",
    "which gives $$ w = (1 - \\beta) \\rho V_u + \\beta \\frac{y}{1+t} $$"
   ]
  },
  {
   "cell_type": "markdown",
   "metadata": {},
   "source": [
    "#### Labor market participation"
   ]
  },
  {
   "cell_type": "markdown",
   "metadata": {},
   "source": [
    "labor market equilibrium condition $$ \\mu s u = \\delta e $$"
   ]
  },
  {
   "cell_type": "markdown",
   "metadata": {},
   "source": [
    "labor force participation rate $$ e + u = 1 $$\n",
    "Total labor force normalized to $1$"
   ]
  },
  {
   "cell_type": "markdown",
   "metadata": {},
   "source": [
    "#### Balanced budget requirement"
   ]
  },
  {
   "cell_type": "markdown",
   "metadata": {},
   "source": [
    "$$ etw = ub^w $$"
   ]
  },
  {
   "cell_type": "markdown",
   "metadata": {},
   "source": [
    "#### Total welfare\n",
    "\n",
    "We add total welfare from [Boone and Van Ours (2006)](http://www.ingentaconnect.com/content/mohr/jite/2006/00000162/00000002/art00001/)."
   ]
  },
  {
   "cell_type": "markdown",
   "metadata": {},
   "source": [
    "$$ W = uV_u + e(V_e+J_e)+\\upsilon J_{\\upsilon} $$"
   ]
  },
  {
   "cell_type": "markdown",
   "metadata": {},
   "source": [
    "### Data\n",
    "Our values for exogenous parameters are taken from [Boone and Van Ours (2006, p. 238-9)](http://www.ingentaconnect.com/content/mohr/jite/2006/00000162/00000002/art00001/).\n",
    "\n",
    "We adjust the exogenous parameter for the productivity level to simulate a change in business cycle conditions. We adjust on the basis of observed reductions in a proxy for productivity, real GDP per hour worked (index measure), from [OECD.Stat](http://stats.oecd.org/viewhtml.aspx?datasetcode=PDB_GR&lang=en#) for the Netherlands during the Great Recession (2008-2013). \n",
    "\n",
    "__[Insert graph OECD]__ \n"
   ]
  },
  {
   "cell_type": "markdown",
   "metadata": {},
   "source": [
    "### Calculations"
   ]
  },
  {
   "cell_type": "markdown",
   "metadata": {},
   "source": [
    "#### Baseline\n",
    "We start with a baseline scenario in which the economy is not in a recession. For this we can normalize the productivity parameter, $y=1$."
   ]
  },
  {
   "cell_type": "code",
   "execution_count": 17,
   "metadata": {
    "collapsed": false
   },
   "outputs": [],
   "source": [
    "# State of the economy\n",
    "\n",
    "y = 1.0            # productivity level\n",
    "\n",
    "# Baseline value of the unemployment benefit replacement rate\n",
    "\n",
    "b = 0.7            # replacement rate"
   ]
  },
  {
   "cell_type": "markdown",
   "metadata": {},
   "source": [
    "We define those endogenous variables required to solve the model and those of interest for our comparison of steady states."
   ]
  },
  {
   "cell_type": "code",
   "execution_count": 18,
   "metadata": {
    "collapsed": false
   },
   "outputs": [],
   "source": [
    "# disutility from job search\n",
    "def gamma(s):\n",
    "    return ((1-(1-s)**(1-kappa)))/(1-kappa) -s ### jb: there was a type here; you wrote /(1-kappa -s)\n",
    "            \n",
    "#def m(s,u,v,A,eta):\n",
    "#    return A*((s*u)**(1-eta))*(v**eta)\n",
    "            \n",
    "#def mu(m,s,u):\n",
    "#    return (m/(s*u))\n",
    "            \n",
    "#def Je(y,t,delta,Jv,rho):\n",
    "#    return (y-((1-t)*t) + (delta*Jv))/(rho + (rho*delta))\n",
    "                   \n",
    "#def e(mu,s,u,delta):\n",
    "#    return (mu*s*u)/(delta)\n",
    "            \n",
    "#def G(e,u,N):\n",
    "#    return (e+u)/N\n",
    "\n",
    "#def w(beta,rho,Vu,y,t):\n",
    "#    return((1-beta)*rho*Vu) + (beta*(y/(1+t)))"
   ]
  },
  {
   "cell_type": "markdown",
   "metadata": {},
   "source": [
    "##### Finding fixed-points\n",
    "Algorithm used throughout the notebook"
   ]
  },
  {
   "cell_type": "code",
   "execution_count": 19,
   "metadata": {
    "collapsed": true
   },
   "outputs": [],
   "source": [
    "def fixed_point(v_u):\n",
    "    w = (1-beta)*rho*v_u + beta * (y/(1+t))\n",
    "    J_e = (y-(1+t)*w)/(rho+delta)\n",
    "    theta = ((A*J_e)/(c_ups))**(1/(1-eta))\n",
    "    # find optimal s for given values of theta and v_u    \n",
    "    s_max = optimize.fminbound(lambda s: -(b*w - gamma(s) + A*(theta**eta)*s*(w/(rho+delta) - rho/(rho+delta)*v_u)),0,1,disp=1)\n",
    "    # s_max = 0.5\n",
    "    output = (b*w - gamma(s_max) + A*(theta**eta)*s_max*(w/(rho+delta) - rho/(rho+delta)*v_u))/rho\n",
    "    return output - v_u"
   ]
  },
  {
   "cell_type": "code",
   "execution_count": 20,
   "metadata": {
    "collapsed": false
   },
   "outputs": [
    {
     "data": {
      "text/plain": [
       "array([ 6.22782702])"
      ]
     },
     "execution_count": 20,
     "metadata": {},
     "output_type": "execute_result"
    }
   ],
   "source": [
    "optimize.fsolve(fixed_point, 5)"
   ]
  },
  {
   "cell_type": "markdown",
   "metadata": {},
   "source": [
    "__[Calculations outcomes]__"
   ]
  },
  {
   "cell_type": "markdown",
   "metadata": {},
   "source": [
    "__[Table with outcomes]__"
   ]
  },
  {
   "cell_type": "markdown",
   "metadata": {},
   "source": [
    "We will hold off on presenting the baseline in a graph until the next section to enable comparison."
   ]
  },
  {
   "cell_type": "markdown",
   "metadata": {},
   "source": [
    "#### A recession"
   ]
  },
  {
   "cell_type": "markdown",
   "metadata": {
    "collapsed": true
   },
   "source": [
    "New productivity during recession, see table for index. 2010 = 100 = 1, so our baseline output."
   ]
  },
  {
   "cell_type": "code",
   "execution_count": 15,
   "metadata": {
    "collapsed": false
   },
   "outputs": [
    {
     "data": {
      "text/html": [
       "<div>\n",
       "<table border=\"1\" class=\"dataframe\">\n",
       "  <thead>\n",
       "    <tr style=\"text-align: right;\">\n",
       "      <th></th>\n",
       "      <th>year</th>\n",
       "      <th>value</th>\n",
       "    </tr>\n",
       "  </thead>\n",
       "  <tbody>\n",
       "    <tr>\n",
       "      <th>0</th>\n",
       "      <td>2000</td>\n",
       "      <td>91.3</td>\n",
       "    </tr>\n",
       "    <tr>\n",
       "      <th>1</th>\n",
       "      <td>2001</td>\n",
       "      <td>92.1</td>\n",
       "    </tr>\n",
       "    <tr>\n",
       "      <th>2</th>\n",
       "      <td>2002</td>\n",
       "      <td>92.7</td>\n",
       "    </tr>\n",
       "    <tr>\n",
       "      <th>3</th>\n",
       "      <td>2003</td>\n",
       "      <td>94.0</td>\n",
       "    </tr>\n",
       "    <tr>\n",
       "      <th>4</th>\n",
       "      <td>2004</td>\n",
       "      <td>95.6</td>\n",
       "    </tr>\n",
       "    <tr>\n",
       "      <th>5</th>\n",
       "      <td>2005</td>\n",
       "      <td>98.0</td>\n",
       "    </tr>\n",
       "    <tr>\n",
       "      <th>6</th>\n",
       "      <td>2006</td>\n",
       "      <td>99.5</td>\n",
       "    </tr>\n",
       "    <tr>\n",
       "      <th>7</th>\n",
       "      <td>2007</td>\n",
       "      <td>100.3</td>\n",
       "    </tr>\n",
       "    <tr>\n",
       "      <th>8</th>\n",
       "      <td>2008</td>\n",
       "      <td>100.3</td>\n",
       "    </tr>\n",
       "    <tr>\n",
       "      <th>9</th>\n",
       "      <td>2009</td>\n",
       "      <td>97.9</td>\n",
       "    </tr>\n",
       "    <tr>\n",
       "      <th>10</th>\n",
       "      <td>2010</td>\n",
       "      <td>100.0</td>\n",
       "    </tr>\n",
       "    <tr>\n",
       "      <th>11</th>\n",
       "      <td>2011</td>\n",
       "      <td>100.7</td>\n",
       "    </tr>\n",
       "    <tr>\n",
       "      <th>12</th>\n",
       "      <td>2012</td>\n",
       "      <td>100.5</td>\n",
       "    </tr>\n",
       "    <tr>\n",
       "      <th>13</th>\n",
       "      <td>2013</td>\n",
       "      <td>100.8</td>\n",
       "    </tr>\n",
       "    <tr>\n",
       "      <th>14</th>\n",
       "      <td>2014</td>\n",
       "      <td>101.7</td>\n",
       "    </tr>\n",
       "    <tr>\n",
       "      <th>15</th>\n",
       "      <td>2015</td>\n",
       "      <td>102.8</td>\n",
       "    </tr>\n",
       "  </tbody>\n",
       "</table>\n",
       "</div>"
      ],
      "text/plain": [
       "    year  value\n",
       "0   2000   91.3\n",
       "1   2001   92.1\n",
       "2   2002   92.7\n",
       "3   2003   94.0\n",
       "4   2004   95.6\n",
       "5   2005   98.0\n",
       "6   2006   99.5\n",
       "7   2007  100.3\n",
       "8   2008  100.3\n",
       "9   2009   97.9\n",
       "10  2010  100.0\n",
       "11  2011  100.7\n",
       "12  2012  100.5\n",
       "13  2013  100.8\n",
       "14  2014  101.7\n",
       "15  2015  102.8"
      ]
     },
     "execution_count": 15,
     "metadata": {},
     "output_type": "execute_result"
    }
   ],
   "source": [
    "df = pd.read_csv('data.csv')\n",
    "df"
   ]
  },
  {
   "cell_type": "code",
   "execution_count": 16,
   "metadata": {
    "collapsed": false
   },
   "outputs": [
    {
     "data": {
      "image/png": "[encoded data removed]",
      "text/plain": [
       "<matplotlib.figure.Figure at 0x1b607438>"
      ]
     },
     "metadata": {},
     "output_type": "display_data"
    }
   ],
   "source": [
    "baseline = 100.0\n",
    "plt.bar(df.year, df.value-baseline, bottom=baseline)\n",
    "plt.xlabel ('year')\n",
    "plt.ylabel ('index', rotation=0)\n",
    "plt.title ('Productivity (GDP per hour worked)')\n",
    "plt.savefig ('Productivity_bar.png')"
   ]
  },
  {
   "cell_type": "markdown",
   "metadata": {},
   "source": [
    "__[Redo model]__"
   ]
  },
  {
   "cell_type": "markdown",
   "metadata": {},
   "source": [
    "__[To calculate the productivity level during the recession we take the highest value before the recession (2008) and the lowest value during the recession (2009) and use this modify the y variable to 0.9x]__"
   ]
  },
  {
   "cell_type": "markdown",
   "metadata": {},
   "source": [
    "__[Brief analysis]__"
   ]
  },
  {
   "cell_type": "markdown",
   "metadata": {},
   "source": [
    "#### Policy change: a higher replacement rate during recession<a id='pol'></a>"
   ]
  },
  {
   "cell_type": "markdown",
   "metadata": {},
   "source": [
    "We set b = 0.8, an increase of 10 ppt, or a raise of about 14.3%"
   ]
  },
  {
   "cell_type": "markdown",
   "metadata": {},
   "source": [
    "__[Redo model]__"
   ]
  },
  {
   "cell_type": "markdown",
   "metadata": {},
   "source": [
    "## Results"
   ]
  },
  {
   "cell_type": "markdown",
   "metadata": {},
   "source": [
    "__[Table with three columns:  baseline y=1 and b =0.7 // recession y=0.9x and b =0.8 // policy change y=0.9x and b= 0.8]__"
   ]
  },
  {
   "cell_type": "markdown",
   "metadata": {},
   "source": [
    "__[Four graphs in one field of W,u,s,V_u on b for y=1 and y =0.9x]__"
   ]
  },
  {
   "cell_type": "markdown",
   "metadata": {},
   "source": [
    "__[analysis]__"
   ]
  },
  {
   "cell_type": "markdown",
   "metadata": {},
   "source": [
    "### Sensitivity analysis<a id='sens'></a>\n",
    "On A and/or rho?\n",
    "Take drastic recession, e.g. Spain or Greece?\n",
    "\n",
    "__[Work]__"
   ]
  },
  {
   "cell_type": "markdown",
   "metadata": {},
   "source": [
    "## Conclusion and discussion of results\n",
    "We have conducted a partial-equilibrium analysis of the effects of an increase in the replacement rate of unemployment benefits on labor market outcomes. Since our model does not include feedback effects from higher unemployment benefits via aggregate demand to demand for labor, we consider our results to be a worst-case scenario. Most likely, the higher unemployment benefits will result in a positive feedback on labor productivity, ultimately leading to a higher employment rate.\n",
    "\n",
    "__[More on results]__\n"
   ]
  },
  {
   "cell_type": "code",
   "execution_count": null,
   "metadata": {
    "collapsed": true
   },
   "outputs": [],
   "source": []
  }
 ],
 "metadata": {
  "kernelspec": {
   "display_name": "Python 2",
   "language": "python",
   "name": "python2"
  },
  "language_info": {
   "codemirror_mode": {
    "name": "ipython",
    "version": 2
   },
   "file_extension": ".py",
   "mimetype": "text/x-python",
   "name": "python",
   "nbconvert_exporter": "python",
   "pygments_lexer": "ipython2",
   "version": "2.7.11"
  }
 },
 "nbformat": 4,
 "nbformat_minor": 0
}
